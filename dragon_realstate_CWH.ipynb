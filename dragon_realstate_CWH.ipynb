{
  "nbformat": 4,
  "nbformat_minor": 0,
  "metadata": {
    "colab": {
      "name": "dragon_realstate_CWH.ipynb",
      "provenance": [],
      "collapsed_sections": [],
      "toc_visible": true
    },
    "kernelspec": {
      "name": "python3",
      "display_name": "Python 3"
    },
    "language_info": {
      "name": "python"
    }
  },
  "cells": [
    {
      "cell_type": "markdown",
      "source": [
        "# Dragon Realstate"
      ],
      "metadata": {
        "id": "3Fjn2LaTaegi"
      }
    },
    {
      "cell_type": "code",
      "source": [
        "import pandas as pd\n"
      ],
      "metadata": {
        "id": "LxFfqLQiazM4"
      },
      "execution_count": null,
      "outputs": []
    },
    {
      "cell_type": "code",
      "source": [
        "housing = pd.read_csv(\"/content/drive/MyDrive/boston.csv\")"
      ],
      "metadata": {
        "id": "JEX190rzsSvE"
      },
      "execution_count": null,
      "outputs": []
    },
    {
      "cell_type": "code",
      "source": [
        "housing.describe()"
      ],
      "metadata": {
        "colab": {
          "base_uri": "https://localhost:8080/",
          "height": 364
        },
        "id": "RYtoNVIzs7T4",
        "outputId": "600c5d43-1d98-4d6d-c187-ea99bf470af7"
      },
      "execution_count": null,
      "outputs": [
        {
          "output_type": "execute_result",
          "data": {
            "text/html": [
              "\n",
              "  <div id=\"df-5a4bd7ce-f2a7-42bf-982b-c2d6488e8b19\">\n",
              "    <div class=\"colab-df-container\">\n",
              "      <div>\n",
              "<style scoped>\n",
              "    .dataframe tbody tr th:only-of-type {\n",
              "        vertical-align: middle;\n",
              "    }\n",
              "\n",
              "    .dataframe tbody tr th {\n",
              "        vertical-align: top;\n",
              "    }\n",
              "\n",
              "    .dataframe thead th {\n",
              "        text-align: right;\n",
              "    }\n",
              "</style>\n",
              "<table border=\"1\" class=\"dataframe\">\n",
              "  <thead>\n",
              "    <tr style=\"text-align: right;\">\n",
              "      <th></th>\n",
              "      <th>CRIM</th>\n",
              "      <th>ZN</th>\n",
              "      <th>INDUS</th>\n",
              "      <th>CHAS</th>\n",
              "      <th>NOX</th>\n",
              "      <th>RM</th>\n",
              "      <th>AGE</th>\n",
              "      <th>DIS</th>\n",
              "      <th>RAD</th>\n",
              "      <th>TAX</th>\n",
              "      <th>PTRATIO</th>\n",
              "      <th>B</th>\n",
              "      <th>LSTAT</th>\n",
              "      <th>MEDV</th>\n",
              "    </tr>\n",
              "  </thead>\n",
              "  <tbody>\n",
              "    <tr>\n",
              "      <th>count</th>\n",
              "      <td>506.000000</td>\n",
              "      <td>506.000000</td>\n",
              "      <td>506.000000</td>\n",
              "      <td>506.000000</td>\n",
              "      <td>506.000000</td>\n",
              "      <td>506.000000</td>\n",
              "      <td>506.000000</td>\n",
              "      <td>506.000000</td>\n",
              "      <td>506.000000</td>\n",
              "      <td>506.000000</td>\n",
              "      <td>506.000000</td>\n",
              "      <td>506.000000</td>\n",
              "      <td>506.000000</td>\n",
              "      <td>506.000000</td>\n",
              "    </tr>\n",
              "    <tr>\n",
              "      <th>mean</th>\n",
              "      <td>3.613524</td>\n",
              "      <td>11.363636</td>\n",
              "      <td>11.136779</td>\n",
              "      <td>0.069170</td>\n",
              "      <td>0.554695</td>\n",
              "      <td>6.284634</td>\n",
              "      <td>68.574901</td>\n",
              "      <td>3.795043</td>\n",
              "      <td>9.549407</td>\n",
              "      <td>408.237154</td>\n",
              "      <td>18.455534</td>\n",
              "      <td>356.674032</td>\n",
              "      <td>12.653063</td>\n",
              "      <td>22.532806</td>\n",
              "    </tr>\n",
              "    <tr>\n",
              "      <th>std</th>\n",
              "      <td>8.601545</td>\n",
              "      <td>23.322453</td>\n",
              "      <td>6.860353</td>\n",
              "      <td>0.253994</td>\n",
              "      <td>0.115878</td>\n",
              "      <td>0.702617</td>\n",
              "      <td>28.148861</td>\n",
              "      <td>2.105710</td>\n",
              "      <td>8.707259</td>\n",
              "      <td>168.537116</td>\n",
              "      <td>2.164946</td>\n",
              "      <td>91.294864</td>\n",
              "      <td>7.141062</td>\n",
              "      <td>9.197104</td>\n",
              "    </tr>\n",
              "    <tr>\n",
              "      <th>min</th>\n",
              "      <td>0.006320</td>\n",
              "      <td>0.000000</td>\n",
              "      <td>0.460000</td>\n",
              "      <td>0.000000</td>\n",
              "      <td>0.385000</td>\n",
              "      <td>3.561000</td>\n",
              "      <td>2.900000</td>\n",
              "      <td>1.129600</td>\n",
              "      <td>1.000000</td>\n",
              "      <td>187.000000</td>\n",
              "      <td>12.600000</td>\n",
              "      <td>0.320000</td>\n",
              "      <td>1.730000</td>\n",
              "      <td>5.000000</td>\n",
              "    </tr>\n",
              "    <tr>\n",
              "      <th>25%</th>\n",
              "      <td>0.082045</td>\n",
              "      <td>0.000000</td>\n",
              "      <td>5.190000</td>\n",
              "      <td>0.000000</td>\n",
              "      <td>0.449000</td>\n",
              "      <td>5.885500</td>\n",
              "      <td>45.025000</td>\n",
              "      <td>2.100175</td>\n",
              "      <td>4.000000</td>\n",
              "      <td>279.000000</td>\n",
              "      <td>17.400000</td>\n",
              "      <td>375.377500</td>\n",
              "      <td>6.950000</td>\n",
              "      <td>17.025000</td>\n",
              "    </tr>\n",
              "    <tr>\n",
              "      <th>50%</th>\n",
              "      <td>0.256510</td>\n",
              "      <td>0.000000</td>\n",
              "      <td>9.690000</td>\n",
              "      <td>0.000000</td>\n",
              "      <td>0.538000</td>\n",
              "      <td>6.208500</td>\n",
              "      <td>77.500000</td>\n",
              "      <td>3.207450</td>\n",
              "      <td>5.000000</td>\n",
              "      <td>330.000000</td>\n",
              "      <td>19.050000</td>\n",
              "      <td>391.440000</td>\n",
              "      <td>11.360000</td>\n",
              "      <td>21.200000</td>\n",
              "    </tr>\n",
              "    <tr>\n",
              "      <th>75%</th>\n",
              "      <td>3.677083</td>\n",
              "      <td>12.500000</td>\n",
              "      <td>18.100000</td>\n",
              "      <td>0.000000</td>\n",
              "      <td>0.624000</td>\n",
              "      <td>6.623500</td>\n",
              "      <td>94.075000</td>\n",
              "      <td>5.188425</td>\n",
              "      <td>24.000000</td>\n",
              "      <td>666.000000</td>\n",
              "      <td>20.200000</td>\n",
              "      <td>396.225000</td>\n",
              "      <td>16.955000</td>\n",
              "      <td>25.000000</td>\n",
              "    </tr>\n",
              "    <tr>\n",
              "      <th>max</th>\n",
              "      <td>88.976200</td>\n",
              "      <td>100.000000</td>\n",
              "      <td>27.740000</td>\n",
              "      <td>1.000000</td>\n",
              "      <td>0.871000</td>\n",
              "      <td>8.780000</td>\n",
              "      <td>100.000000</td>\n",
              "      <td>12.126500</td>\n",
              "      <td>24.000000</td>\n",
              "      <td>711.000000</td>\n",
              "      <td>22.000000</td>\n",
              "      <td>396.900000</td>\n",
              "      <td>37.970000</td>\n",
              "      <td>50.000000</td>\n",
              "    </tr>\n",
              "  </tbody>\n",
              "</table>\n",
              "</div>\n",
              "      <button class=\"colab-df-convert\" onclick=\"convertToInteractive('df-5a4bd7ce-f2a7-42bf-982b-c2d6488e8b19')\"\n",
              "              title=\"Convert this dataframe to an interactive table.\"\n",
              "              style=\"display:none;\">\n",
              "        \n",
              "  <svg xmlns=\"http://www.w3.org/2000/svg\" height=\"24px\"viewBox=\"0 0 24 24\"\n",
              "       width=\"24px\">\n",
              "    <path d=\"M0 0h24v24H0V0z\" fill=\"none\"/>\n",
              "    <path d=\"M18.56 5.44l.94 2.06.94-2.06 2.06-.94-2.06-.94-.94-2.06-.94 2.06-2.06.94zm-11 1L8.5 8.5l.94-2.06 2.06-.94-2.06-.94L8.5 2.5l-.94 2.06-2.06.94zm10 10l.94 2.06.94-2.06 2.06-.94-2.06-.94-.94-2.06-.94 2.06-2.06.94z\"/><path d=\"M17.41 7.96l-1.37-1.37c-.4-.4-.92-.59-1.43-.59-.52 0-1.04.2-1.43.59L10.3 9.45l-7.72 7.72c-.78.78-.78 2.05 0 2.83L4 21.41c.39.39.9.59 1.41.59.51 0 1.02-.2 1.41-.59l7.78-7.78 2.81-2.81c.8-.78.8-2.07 0-2.86zM5.41 20L4 18.59l7.72-7.72 1.47 1.35L5.41 20z\"/>\n",
              "  </svg>\n",
              "      </button>\n",
              "      \n",
              "  <style>\n",
              "    .colab-df-container {\n",
              "      display:flex;\n",
              "      flex-wrap:wrap;\n",
              "      gap: 12px;\n",
              "    }\n",
              "\n",
              "    .colab-df-convert {\n",
              "      background-color: #E8F0FE;\n",
              "      border: none;\n",
              "      border-radius: 50%;\n",
              "      cursor: pointer;\n",
              "      display: none;\n",
              "      fill: #1967D2;\n",
              "      height: 32px;\n",
              "      padding: 0 0 0 0;\n",
              "      width: 32px;\n",
              "    }\n",
              "\n",
              "    .colab-df-convert:hover {\n",
              "      background-color: #E2EBFA;\n",
              "      box-shadow: 0px 1px 2px rgba(60, 64, 67, 0.3), 0px 1px 3px 1px rgba(60, 64, 67, 0.15);\n",
              "      fill: #174EA6;\n",
              "    }\n",
              "\n",
              "    [theme=dark] .colab-df-convert {\n",
              "      background-color: #3B4455;\n",
              "      fill: #D2E3FC;\n",
              "    }\n",
              "\n",
              "    [theme=dark] .colab-df-convert:hover {\n",
              "      background-color: #434B5C;\n",
              "      box-shadow: 0px 1px 3px 1px rgba(0, 0, 0, 0.15);\n",
              "      filter: drop-shadow(0px 1px 2px rgba(0, 0, 0, 0.3));\n",
              "      fill: #FFFFFF;\n",
              "    }\n",
              "  </style>\n",
              "\n",
              "      <script>\n",
              "        const buttonEl =\n",
              "          document.querySelector('#df-5a4bd7ce-f2a7-42bf-982b-c2d6488e8b19 button.colab-df-convert');\n",
              "        buttonEl.style.display =\n",
              "          google.colab.kernel.accessAllowed ? 'block' : 'none';\n",
              "\n",
              "        async function convertToInteractive(key) {\n",
              "          const element = document.querySelector('#df-5a4bd7ce-f2a7-42bf-982b-c2d6488e8b19');\n",
              "          const dataTable =\n",
              "            await google.colab.kernel.invokeFunction('convertToInteractive',\n",
              "                                                     [key], {});\n",
              "          if (!dataTable) return;\n",
              "\n",
              "          const docLinkHtml = 'Like what you see? Visit the ' +\n",
              "            '<a target=\"_blank\" href=https://colab.research.google.com/notebooks/data_table.ipynb>data table notebook</a>'\n",
              "            + ' to learn more about interactive tables.';\n",
              "          element.innerHTML = '';\n",
              "          dataTable['output_type'] = 'display_data';\n",
              "          await google.colab.output.renderOutput(dataTable, element);\n",
              "          const docLink = document.createElement('div');\n",
              "          docLink.innerHTML = docLinkHtml;\n",
              "          element.appendChild(docLink);\n",
              "        }\n",
              "      </script>\n",
              "    </div>\n",
              "  </div>\n",
              "  "
            ],
            "text/plain": [
              "             CRIM          ZN       INDUS        CHAS         NOX          RM  \\\n",
              "count  506.000000  506.000000  506.000000  506.000000  506.000000  506.000000   \n",
              "mean     3.613524   11.363636   11.136779    0.069170    0.554695    6.284634   \n",
              "std      8.601545   23.322453    6.860353    0.253994    0.115878    0.702617   \n",
              "min      0.006320    0.000000    0.460000    0.000000    0.385000    3.561000   \n",
              "25%      0.082045    0.000000    5.190000    0.000000    0.449000    5.885500   \n",
              "50%      0.256510    0.000000    9.690000    0.000000    0.538000    6.208500   \n",
              "75%      3.677083   12.500000   18.100000    0.000000    0.624000    6.623500   \n",
              "max     88.976200  100.000000   27.740000    1.000000    0.871000    8.780000   \n",
              "\n",
              "              AGE         DIS         RAD         TAX     PTRATIO           B  \\\n",
              "count  506.000000  506.000000  506.000000  506.000000  506.000000  506.000000   \n",
              "mean    68.574901    3.795043    9.549407  408.237154   18.455534  356.674032   \n",
              "std     28.148861    2.105710    8.707259  168.537116    2.164946   91.294864   \n",
              "min      2.900000    1.129600    1.000000  187.000000   12.600000    0.320000   \n",
              "25%     45.025000    2.100175    4.000000  279.000000   17.400000  375.377500   \n",
              "50%     77.500000    3.207450    5.000000  330.000000   19.050000  391.440000   \n",
              "75%     94.075000    5.188425   24.000000  666.000000   20.200000  396.225000   \n",
              "max    100.000000   12.126500   24.000000  711.000000   22.000000  396.900000   \n",
              "\n",
              "            LSTAT        MEDV  \n",
              "count  506.000000  506.000000  \n",
              "mean    12.653063   22.532806  \n",
              "std      7.141062    9.197104  \n",
              "min      1.730000    5.000000  \n",
              "25%      6.950000   17.025000  \n",
              "50%     11.360000   21.200000  \n",
              "75%     16.955000   25.000000  \n",
              "max     37.970000   50.000000  "
            ]
          },
          "metadata": {},
          "execution_count": 190
        }
      ]
    },
    {
      "cell_type": "code",
      "source": [
        "housing.info()"
      ],
      "metadata": {
        "id": "IDNFgXrus_tl",
        "colab": {
          "base_uri": "https://localhost:8080/"
        },
        "outputId": "d2edc91c-9204-40ee-f9c5-9bfae5882a08"
      },
      "execution_count": null,
      "outputs": [
        {
          "output_type": "stream",
          "name": "stdout",
          "text": [
            "<class 'pandas.core.frame.DataFrame'>\n",
            "RangeIndex: 506 entries, 0 to 505\n",
            "Data columns (total 14 columns):\n",
            " #   Column   Non-Null Count  Dtype  \n",
            "---  ------   --------------  -----  \n",
            " 0   CRIM     506 non-null    float64\n",
            " 1   ZN       506 non-null    float64\n",
            " 2   INDUS    506 non-null    float64\n",
            " 3   CHAS     506 non-null    int64  \n",
            " 4   NOX      506 non-null    float64\n",
            " 5   RM       506 non-null    float64\n",
            " 6   AGE      506 non-null    float64\n",
            " 7   DIS      506 non-null    float64\n",
            " 8   RAD      506 non-null    int64  \n",
            " 9   TAX      506 non-null    float64\n",
            " 10  PTRATIO  506 non-null    float64\n",
            " 11  B        506 non-null    float64\n",
            " 12  LSTAT    506 non-null    float64\n",
            " 13  MEDV     506 non-null    float64\n",
            "dtypes: float64(12), int64(2)\n",
            "memory usage: 55.5 KB\n"
          ]
        }
      ]
    },
    {
      "cell_type": "code",
      "source": [
        "housing['CHAS']"
      ],
      "metadata": {
        "id": "mGjSMZoNtjlL",
        "colab": {
          "base_uri": "https://localhost:8080/"
        },
        "outputId": "b6ec5fd0-51d0-496b-db04-2979ffbcb3ba"
      },
      "execution_count": null,
      "outputs": [
        {
          "output_type": "execute_result",
          "data": {
            "text/plain": [
              "0      0\n",
              "1      0\n",
              "2      0\n",
              "3      0\n",
              "4      0\n",
              "      ..\n",
              "501    0\n",
              "502    0\n",
              "503    0\n",
              "504    0\n",
              "505    0\n",
              "Name: CHAS, Length: 506, dtype: int64"
            ]
          },
          "metadata": {},
          "execution_count": 192
        }
      ]
    },
    {
      "cell_type": "code",
      "source": [
        "housing['CHAS'].count"
      ],
      "metadata": {
        "id": "UiNzomWcvtvd",
        "colab": {
          "base_uri": "https://localhost:8080/"
        },
        "outputId": "5acf1fc8-a585-4e10-c5b5-a6aff7492973"
      },
      "execution_count": null,
      "outputs": [
        {
          "output_type": "execute_result",
          "data": {
            "text/plain": [
              "<bound method Series.count of 0      0\n",
              "1      0\n",
              "2      0\n",
              "3      0\n",
              "4      0\n",
              "      ..\n",
              "501    0\n",
              "502    0\n",
              "503    0\n",
              "504    0\n",
              "505    0\n",
              "Name: CHAS, Length: 506, dtype: int64>"
            ]
          },
          "metadata": {},
          "execution_count": 193
        }
      ]
    },
    {
      "cell_type": "code",
      "source": [
        "housing['CHAS'].value_counts()"
      ],
      "metadata": {
        "id": "DkAmnqRav6b7",
        "colab": {
          "base_uri": "https://localhost:8080/"
        },
        "outputId": "7c5d974d-3805-4440-aa1f-928c3eb316a9"
      },
      "execution_count": null,
      "outputs": [
        {
          "output_type": "execute_result",
          "data": {
            "text/plain": [
              "0    471\n",
              "1     35\n",
              "Name: CHAS, dtype: int64"
            ]
          },
          "metadata": {},
          "execution_count": 194
        }
      ]
    },
    {
      "cell_type": "code",
      "source": [
        "%matplotlib inline"
      ],
      "metadata": {
        "id": "KlNKp96vwGYq"
      },
      "execution_count": null,
      "outputs": []
    },
    {
      "cell_type": "code",
      "source": [
        "import matplotlib.pyplot as plt\n",
        "housing.hist(bins = 50,figsize=(20,15))"
      ],
      "metadata": {
        "id": "bOPOwTyeyhnq",
        "colab": {
          "base_uri": "https://localhost:8080/",
          "height": 913
        },
        "outputId": "136b51c8-c53c-4e97-8ccc-92caf325700a"
      },
      "execution_count": null,
      "outputs": [
        {
          "output_type": "execute_result",
          "data": {
            "text/plain": [
              "array([[<matplotlib.axes._subplots.AxesSubplot object at 0x7fc95ce2aa90>,\n",
              "        <matplotlib.axes._subplots.AxesSubplot object at 0x7fc95cd23250>,\n",
              "        <matplotlib.axes._subplots.AxesSubplot object at 0x7fc95cd036d0>,\n",
              "        <matplotlib.axes._subplots.AxesSubplot object at 0x7fc95ccb9cd0>],\n",
              "       [<matplotlib.axes._subplots.AxesSubplot object at 0x7fc95cc7c310>,\n",
              "        <matplotlib.axes._subplots.AxesSubplot object at 0x7fc95cc33910>,\n",
              "        <matplotlib.axes._subplots.AxesSubplot object at 0x7fc95cbeaf10>,\n",
              "        <matplotlib.axes._subplots.AxesSubplot object at 0x7fc95cbac550>],\n",
              "       [<matplotlib.axes._subplots.AxesSubplot object at 0x7fc95cbb7a10>,\n",
              "        <matplotlib.axes._subplots.AxesSubplot object at 0x7fc95cb7d150>,\n",
              "        <matplotlib.axes._subplots.AxesSubplot object at 0x7fc95cb5e790>,\n",
              "        <matplotlib.axes._subplots.AxesSubplot object at 0x7fc95cb15d90>],\n",
              "       [<matplotlib.axes._subplots.AxesSubplot object at 0x7fc95cada3d0>,\n",
              "        <matplotlib.axes._subplots.AxesSubplot object at 0x7fc95ca8f950>,\n",
              "        <matplotlib.axes._subplots.AxesSubplot object at 0x7fc95ca47f50>,\n",
              "        <matplotlib.axes._subplots.AxesSubplot object at 0x7fc95ca087d0>]],\n",
              "      dtype=object)"
            ]
          },
          "metadata": {},
          "execution_count": 196
        },
        {
          "output_type": "display_data",
          "data": {
            "image/png": "[encoded data removed]",
            "text/plain": [
              "<Figure size 1440x1080 with 16 Axes>"
            ]
          },
          "metadata": {
            "needs_background": "light"
          }
        }
      ]
    },
    {
      "cell_type": "code",
      "source": [
        "\n",
        "#for learing purpose \n",
        "\n",
        "import numpy as np \n",
        "# np.random.seed(42)\n",
        "# def split_train_test(data,test_ratio):\n",
        "#   shuffled=np.random.permutation(len(data))\n",
        "#   print(shuffled)\n",
        "#   test_size=int(len(data)*test_ratio)\n",
        "#   test_indices=shuffled[:test_size]\n",
        "#   train_indices=shuffled[test_size:]\n",
        "#   return data.iloc[train_indices], data.iloc[test_indices]\n"
      ],
      "metadata": {
        "id": "xCEoVv_lyy8Q"
      },
      "execution_count": null,
      "outputs": []
    },
    {
      "cell_type": "code",
      "source": [
        "# train_set,test_set=split_train_test(housing,0.2)\n",
        "from sklearn.model_selection import train_test_split\n",
        "train_set,test_set=train_test_split(housing , test_size=0.2,random_state=42)\n",
        "print(len(test_set))"
      ],
      "metadata": {
        "id": "09BEY8h-S5QK",
        "colab": {
          "base_uri": "https://localhost:8080/"
        },
        "outputId": "2f09d9e4-6a05-4a36-d8aa-69346ec33150"
      },
      "execution_count": null,
      "outputs": [
        {
          "output_type": "stream",
          "name": "stdout",
          "text": [
            "102\n"
          ]
        }
      ]
    },
    {
      "cell_type": "markdown",
      "source": [
        ""
      ],
      "metadata": {
        "id": "ZAQ4xKv0s1IB"
      }
    },
    {
      "cell_type": "markdown",
      "source": [
        "shuffling on basis of CHAS its imp measure musted me splitted proportionally\n"
      ],
      "metadata": {
        "id": "6d5sELxosQKa"
      }
    },
    {
      "cell_type": "code",
      "source": [
        "from sklearn.model_selection import StratifiedShuffleSplit\n",
        "split=StratifiedShuffleSplit(n_splits=1, test_size=0.2,random_state=42)\n",
        "for train_index  ,test_index  in split.split(housing,housing['CHAS']):\n",
        "  strat_train_set=housing.loc[train_index]\n",
        "  strat_test_set=housing.loc[test_index]\n",
        "\n"
      ],
      "metadata": {
        "id": "Goaz81j5s2VL"
      },
      "execution_count": null,
      "outputs": []
    },
    {
      "cell_type": "code",
      "source": [
        "strat_test_set"
      ],
      "metadata": {
        "id": "2H9hO4uswSX5",
        "colab": {
          "base_uri": "https://localhost:8080/",
          "height": 424
        },
        "outputId": "8adb2c97-e7be-4450-c93d-927af16c2ac8"
      },
      "execution_count": null,
      "outputs": [
        {
          "output_type": "execute_result",
          "data": {
            "text/html": [
              "\n",
              "  <div id=\"df-109a779d-e18b-4aaf-8168-a3c360eb7e48\">\n",
              "    <div class=\"colab-df-container\">\n",
              "      <div>\n",
              "<style scoped>\n",
              "    .dataframe tbody tr th:only-of-type {\n",
              "        vertical-align: middle;\n",
              "    }\n",
              "\n",
              "    .dataframe tbody tr th {\n",
              "        vertical-align: top;\n",
              "    }\n",
              "\n",
              "    .dataframe thead th {\n",
              "        text-align: right;\n",
              "    }\n",
              "</style>\n",
              "<table border=\"1\" class=\"dataframe\">\n",
              "  <thead>\n",
              "    <tr style=\"text-align: right;\">\n",
              "      <th></th>\n",
              "      <th>CRIM</th>\n",
              "      <th>ZN</th>\n",
              "      <th>INDUS</th>\n",
              "      <th>CHAS</th>\n",
              "      <th>NOX</th>\n",
              "      <th>RM</th>\n",
              "      <th>AGE</th>\n",
              "      <th>DIS</th>\n",
              "      <th>RAD</th>\n",
              "      <th>TAX</th>\n",
              "      <th>PTRATIO</th>\n",
              "      <th>B</th>\n",
              "      <th>LSTAT</th>\n",
              "      <th>MEDV</th>\n",
              "    </tr>\n",
              "  </thead>\n",
              "  <tbody>\n",
              "    <tr>\n",
              "      <th>342</th>\n",
              "      <td>0.02498</td>\n",
              "      <td>0.0</td>\n",
              "      <td>1.89</td>\n",
              "      <td>0</td>\n",
              "      <td>0.518</td>\n",
              "      <td>6.540</td>\n",
              "      <td>59.7</td>\n",
              "      <td>6.2669</td>\n",
              "      <td>1</td>\n",
              "      <td>422.0</td>\n",
              "      <td>15.9</td>\n",
              "      <td>389.96</td>\n",
              "      <td>8.65</td>\n",
              "      <td>16.5</td>\n",
              "    </tr>\n",
              "    <tr>\n",
              "      <th>379</th>\n",
              "      <td>17.86670</td>\n",
              "      <td>0.0</td>\n",
              "      <td>18.10</td>\n",
              "      <td>0</td>\n",
              "      <td>0.671</td>\n",
              "      <td>6.223</td>\n",
              "      <td>100.0</td>\n",
              "      <td>1.3861</td>\n",
              "      <td>24</td>\n",
              "      <td>666.0</td>\n",
              "      <td>20.2</td>\n",
              "      <td>393.74</td>\n",
              "      <td>21.78</td>\n",
              "      <td>10.2</td>\n",
              "    </tr>\n",
              "    <tr>\n",
              "      <th>223</th>\n",
              "      <td>0.61470</td>\n",
              "      <td>0.0</td>\n",
              "      <td>6.20</td>\n",
              "      <td>0</td>\n",
              "      <td>0.507</td>\n",
              "      <td>6.618</td>\n",
              "      <td>80.8</td>\n",
              "      <td>3.2721</td>\n",
              "      <td>8</td>\n",
              "      <td>307.0</td>\n",
              "      <td>17.4</td>\n",
              "      <td>396.90</td>\n",
              "      <td>7.60</td>\n",
              "      <td>30.1</td>\n",
              "    </tr>\n",
              "    <tr>\n",
              "      <th>219</th>\n",
              "      <td>0.11425</td>\n",
              "      <td>0.0</td>\n",
              "      <td>13.89</td>\n",
              "      <td>1</td>\n",
              "      <td>0.550</td>\n",
              "      <td>6.373</td>\n",
              "      <td>92.4</td>\n",
              "      <td>3.3633</td>\n",
              "      <td>5</td>\n",
              "      <td>276.0</td>\n",
              "      <td>16.4</td>\n",
              "      <td>393.74</td>\n",
              "      <td>10.50</td>\n",
              "      <td>23.0</td>\n",
              "    </tr>\n",
              "    <tr>\n",
              "      <th>48</th>\n",
              "      <td>0.25387</td>\n",
              "      <td>0.0</td>\n",
              "      <td>6.91</td>\n",
              "      <td>0</td>\n",
              "      <td>0.448</td>\n",
              "      <td>5.399</td>\n",
              "      <td>95.3</td>\n",
              "      <td>5.8700</td>\n",
              "      <td>3</td>\n",
              "      <td>233.0</td>\n",
              "      <td>17.9</td>\n",
              "      <td>396.90</td>\n",
              "      <td>30.81</td>\n",
              "      <td>14.4</td>\n",
              "    </tr>\n",
              "    <tr>\n",
              "      <th>...</th>\n",
              "      <td>...</td>\n",
              "      <td>...</td>\n",
              "      <td>...</td>\n",
              "      <td>...</td>\n",
              "      <td>...</td>\n",
              "      <td>...</td>\n",
              "      <td>...</td>\n",
              "      <td>...</td>\n",
              "      <td>...</td>\n",
              "      <td>...</td>\n",
              "      <td>...</td>\n",
              "      <td>...</td>\n",
              "      <td>...</td>\n",
              "      <td>...</td>\n",
              "    </tr>\n",
              "    <tr>\n",
              "      <th>88</th>\n",
              "      <td>0.05660</td>\n",
              "      <td>0.0</td>\n",
              "      <td>3.41</td>\n",
              "      <td>0</td>\n",
              "      <td>0.489</td>\n",
              "      <td>7.007</td>\n",
              "      <td>86.3</td>\n",
              "      <td>3.4217</td>\n",
              "      <td>2</td>\n",
              "      <td>270.0</td>\n",
              "      <td>17.8</td>\n",
              "      <td>396.90</td>\n",
              "      <td>5.50</td>\n",
              "      <td>23.6</td>\n",
              "    </tr>\n",
              "    <tr>\n",
              "      <th>466</th>\n",
              "      <td>3.77498</td>\n",
              "      <td>0.0</td>\n",
              "      <td>18.10</td>\n",
              "      <td>0</td>\n",
              "      <td>0.655</td>\n",
              "      <td>5.952</td>\n",
              "      <td>84.7</td>\n",
              "      <td>2.8715</td>\n",
              "      <td>24</td>\n",
              "      <td>666.0</td>\n",
              "      <td>20.2</td>\n",
              "      <td>22.01</td>\n",
              "      <td>17.15</td>\n",
              "      <td>19.0</td>\n",
              "    </tr>\n",
              "    <tr>\n",
              "      <th>52</th>\n",
              "      <td>0.05360</td>\n",
              "      <td>21.0</td>\n",
              "      <td>5.64</td>\n",
              "      <td>0</td>\n",
              "      <td>0.439</td>\n",
              "      <td>6.511</td>\n",
              "      <td>21.1</td>\n",
              "      <td>6.8147</td>\n",
              "      <td>4</td>\n",
              "      <td>243.0</td>\n",
              "      <td>16.8</td>\n",
              "      <td>396.90</td>\n",
              "      <td>5.28</td>\n",
              "      <td>25.0</td>\n",
              "    </tr>\n",
              "    <tr>\n",
              "      <th>121</th>\n",
              "      <td>0.07165</td>\n",
              "      <td>0.0</td>\n",
              "      <td>25.65</td>\n",
              "      <td>0</td>\n",
              "      <td>0.581</td>\n",
              "      <td>6.004</td>\n",
              "      <td>84.1</td>\n",
              "      <td>2.1974</td>\n",
              "      <td>2</td>\n",
              "      <td>188.0</td>\n",
              "      <td>19.1</td>\n",
              "      <td>377.67</td>\n",
              "      <td>14.27</td>\n",
              "      <td>20.3</td>\n",
              "    </tr>\n",
              "    <tr>\n",
              "      <th>218</th>\n",
              "      <td>0.11069</td>\n",
              "      <td>0.0</td>\n",
              "      <td>13.89</td>\n",
              "      <td>1</td>\n",
              "      <td>0.550</td>\n",
              "      <td>5.951</td>\n",
              "      <td>93.8</td>\n",
              "      <td>2.8893</td>\n",
              "      <td>5</td>\n",
              "      <td>276.0</td>\n",
              "      <td>16.4</td>\n",
              "      <td>396.90</td>\n",
              "      <td>17.92</td>\n",
              "      <td>21.5</td>\n",
              "    </tr>\n",
              "  </tbody>\n",
              "</table>\n",
              "<p>102 rows × 14 columns</p>\n",
              "</div>\n",
              "      <button class=\"colab-df-convert\" onclick=\"convertToInteractive('df-109a779d-e18b-4aaf-8168-a3c360eb7e48')\"\n",
              "              title=\"Convert this dataframe to an interactive table.\"\n",
              "              style=\"display:none;\">\n",
              "        \n",
              "  <svg xmlns=\"http://www.w3.org/2000/svg\" height=\"24px\"viewBox=\"0 0 24 24\"\n",
              "       width=\"24px\">\n",
              "    <path d=\"M0 0h24v24H0V0z\" fill=\"none\"/>\n",
              "    <path d=\"M18.56 5.44l.94 2.06.94-2.06 2.06-.94-2.06-.94-.94-2.06-.94 2.06-2.06.94zm-11 1L8.5 8.5l.94-2.06 2.06-.94-2.06-.94L8.5 2.5l-.94 2.06-2.06.94zm10 10l.94 2.06.94-2.06 2.06-.94-2.06-.94-.94-2.06-.94 2.06-2.06.94z\"/><path d=\"M17.41 7.96l-1.37-1.37c-.4-.4-.92-.59-1.43-.59-.52 0-1.04.2-1.43.59L10.3 9.45l-7.72 7.72c-.78.78-.78 2.05 0 2.83L4 21.41c.39.39.9.59 1.41.59.51 0 1.02-.2 1.41-.59l7.78-7.78 2.81-2.81c.8-.78.8-2.07 0-2.86zM5.41 20L4 18.59l7.72-7.72 1.47 1.35L5.41 20z\"/>\n",
              "  </svg>\n",
              "      </button>\n",
              "      \n",
              "  <style>\n",
              "    .colab-df-container {\n",
              "      display:flex;\n",
              "      flex-wrap:wrap;\n",
              "      gap: 12px;\n",
              "    }\n",
              "\n",
              "    .colab-df-convert {\n",
              "      background-color: #E8F0FE;\n",
              "      border: none;\n",
              "      border-radius: 50%;\n",
              "      cursor: pointer;\n",
              "      display: none;\n",
              "      fill: #1967D2;\n",
              "      height: 32px;\n",
              "      padding: 0 0 0 0;\n",
              "      width: 32px;\n",
              "    }\n",
              "\n",
              "    .colab-df-convert:hover {\n",
              "      background-color: #E2EBFA;\n",
              "      box-shadow: 0px 1px 2px rgba(60, 64, 67, 0.3), 0px 1px 3px 1px rgba(60, 64, 67, 0.15);\n",
              "      fill: #174EA6;\n",
              "    }\n",
              "\n",
              "    [theme=dark] .colab-df-convert {\n",
              "      background-color: #3B4455;\n",
              "      fill: #D2E3FC;\n",
              "    }\n",
              "\n",
              "    [theme=dark] .colab-df-convert:hover {\n",
              "      background-color: #434B5C;\n",
              "      box-shadow: 0px 1px 3px 1px rgba(0, 0, 0, 0.15);\n",
              "      filter: drop-shadow(0px 1px 2px rgba(0, 0, 0, 0.3));\n",
              "      fill: #FFFFFF;\n",
              "    }\n",
              "  </style>\n",
              "\n",
              "      <script>\n",
              "        const buttonEl =\n",
              "          document.querySelector('#df-109a779d-e18b-4aaf-8168-a3c360eb7e48 button.colab-df-convert');\n",
              "        buttonEl.style.display =\n",
              "          google.colab.kernel.accessAllowed ? 'block' : 'none';\n",
              "\n",
              "        async function convertToInteractive(key) {\n",
              "          const element = document.querySelector('#df-109a779d-e18b-4aaf-8168-a3c360eb7e48');\n",
              "          const dataTable =\n",
              "            await google.colab.kernel.invokeFunction('convertToInteractive',\n",
              "                                                     [key], {});\n",
              "          if (!dataTable) return;\n",
              "\n",
              "          const docLinkHtml = 'Like what you see? Visit the ' +\n",
              "            '<a target=\"_blank\" href=https://colab.research.google.com/notebooks/data_table.ipynb>data table notebook</a>'\n",
              "            + ' to learn more about interactive tables.';\n",
              "          element.innerHTML = '';\n",
              "          dataTable['output_type'] = 'display_data';\n",
              "          await google.colab.output.renderOutput(dataTable, element);\n",
              "          const docLink = document.createElement('div');\n",
              "          docLink.innerHTML = docLinkHtml;\n",
              "          element.appendChild(docLink);\n",
              "        }\n",
              "      </script>\n",
              "    </div>\n",
              "  </div>\n",
              "  "
            ],
            "text/plain": [
              "         CRIM    ZN  INDUS  CHAS    NOX     RM    AGE     DIS  RAD    TAX  \\\n",
              "342   0.02498   0.0   1.89     0  0.518  6.540   59.7  6.2669    1  422.0   \n",
              "379  17.86670   0.0  18.10     0  0.671  6.223  100.0  1.3861   24  666.0   \n",
              "223   0.61470   0.0   6.20     0  0.507  6.618   80.8  3.2721    8  307.0   \n",
              "219   0.11425   0.0  13.89     1  0.550  6.373   92.4  3.3633    5  276.0   \n",
              "48    0.25387   0.0   6.91     0  0.448  5.399   95.3  5.8700    3  233.0   \n",
              "..        ...   ...    ...   ...    ...    ...    ...     ...  ...    ...   \n",
              "88    0.05660   0.0   3.41     0  0.489  7.007   86.3  3.4217    2  270.0   \n",
              "466   3.77498   0.0  18.10     0  0.655  5.952   84.7  2.8715   24  666.0   \n",
              "52    0.05360  21.0   5.64     0  0.439  6.511   21.1  6.8147    4  243.0   \n",
              "121   0.07165   0.0  25.65     0  0.581  6.004   84.1  2.1974    2  188.0   \n",
              "218   0.11069   0.0  13.89     1  0.550  5.951   93.8  2.8893    5  276.0   \n",
              "\n",
              "     PTRATIO       B  LSTAT  MEDV  \n",
              "342     15.9  389.96   8.65  16.5  \n",
              "379     20.2  393.74  21.78  10.2  \n",
              "223     17.4  396.90   7.60  30.1  \n",
              "219     16.4  393.74  10.50  23.0  \n",
              "48      17.9  396.90  30.81  14.4  \n",
              "..       ...     ...    ...   ...  \n",
              "88      17.8  396.90   5.50  23.6  \n",
              "466     20.2   22.01  17.15  19.0  \n",
              "52      16.8  396.90   5.28  25.0  \n",
              "121     19.1  377.67  14.27  20.3  \n",
              "218     16.4  396.90  17.92  21.5  \n",
              "\n",
              "[102 rows x 14 columns]"
            ]
          },
          "metadata": {},
          "execution_count": 200
        }
      ]
    },
    {
      "cell_type": "code",
      "source": [
        "strat_test_set['CHAS'].value_counts()"
      ],
      "metadata": {
        "id": "sR4-agQ5wWWW",
        "colab": {
          "base_uri": "https://localhost:8080/"
        },
        "outputId": "2ab5246c-6b46-4ee9-c85a-de09d78878d0"
      },
      "execution_count": null,
      "outputs": [
        {
          "output_type": "execute_result",
          "data": {
            "text/plain": [
              "0    95\n",
              "1     7\n",
              "Name: CHAS, dtype: int64"
            ]
          },
          "metadata": {},
          "execution_count": 201
        }
      ]
    },
    {
      "cell_type": "code",
      "source": [
        "housing=strat_train_set.copy()\n"
      ],
      "metadata": {
        "id": "b8ag68C2wnDB"
      },
      "execution_count": null,
      "outputs": []
    },
    {
      "cell_type": "markdown",
      "source": [
        ""
      ],
      "metadata": {
        "id": "wIjKO4D-A0Me"
      }
    },
    {
      "cell_type": "code",
      "source": [
        ""
      ],
      "metadata": {
        "id": "xcQxYFVgUi9a"
      },
      "execution_count": null,
      "outputs": []
    },
    {
      "cell_type": "markdown",
      "source": [
        "Looking for Co realtion"
      ],
      "metadata": {
        "id": "l0L31h7MUm_K"
      }
    },
    {
      "cell_type": "markdown",
      "source": [
        "Looking for corelation\n"
      ],
      "metadata": {
        "id": "hgL8NRkCVdDY"
      }
    },
    {
      "cell_type": "code",
      "source": [
        ""
      ],
      "metadata": {
        "id": "E7bhSD8qUph-"
      },
      "execution_count": null,
      "outputs": []
    },
    {
      "cell_type": "markdown",
      "source": [
        ""
      ],
      "metadata": {
        "id": "nAx1f8RDVrDu"
      }
    },
    {
      "cell_type": "markdown",
      "source": [
        "#Looking for corelation\n"
      ],
      "metadata": {
        "id": "GDl6SfICVr4t"
      }
    },
    {
      "cell_type": "markdown",
      "source": [
        "pearson correlation value *how other values may be afected with change in one*\n",
        "eg si correlation =1 ; strong positive correlation "
      ],
      "metadata": {
        "id": "EUBrI0a1WiUc"
      }
    },
    {
      "cell_type": "code",
      "source": [
        "# corr_matrix=housing.corr()\n",
        "# corr_matrix['MEDV'].sort_values(ascending=False)"
      ],
      "metadata": {
        "id": "afEbWOz1Ws0H"
      },
      "execution_count": null,
      "outputs": []
    },
    {
      "cell_type": "markdown",
      "source": [
        "This matrix is an 2D list which will give correleation coffecient of all  parameters with respect to other parameters"
      ],
      "metadata": {
        "id": "EZ0_J70aXNcS"
      }
    },
    {
      "cell_type": "code",
      "source": [
        "from pandas.plotting import scatter_matrix\n",
        "attributes=[\"MEDV\",\"RM\",\"ZN\",\"LSTAT\"]\n",
        "scatter_matrix(housing[attributes],figsize=(12,8))"
      ],
      "metadata": {
        "colab": {
          "base_uri": "https://localhost:8080/",
          "height": 798
        },
        "id": "eTLLyU2bXXg1",
        "outputId": "1a8605f2-c117-4d3f-fe09-845c2a903f69"
      },
      "execution_count": null,
      "outputs": [
        {
          "output_type": "execute_result",
          "data": {
            "text/plain": [
              "array([[<matplotlib.axes._subplots.AxesSubplot object at 0x7fc95cd2bcd0>,\n",
              "        <matplotlib.axes._subplots.AxesSubplot object at 0x7fc95bfe22d0>,\n",
              "        <matplotlib.axes._subplots.AxesSubplot object at 0x7fc95bf1c210>,\n",
              "        <matplotlib.axes._subplots.AxesSubplot object at 0x7fc95beb1710>],\n",
              "       [<matplotlib.axes._subplots.AxesSubplot object at 0x7fc95bed0a10>,\n",
              "        <matplotlib.axes._subplots.AxesSubplot object at 0x7fc95be7ded0>,\n",
              "        <matplotlib.axes._subplots.AxesSubplot object at 0x7fc95be35410>,\n",
              "        <matplotlib.axes._subplots.AxesSubplot object at 0x7fc95bde9890>],\n",
              "       [<matplotlib.axes._subplots.AxesSubplot object at 0x7fc95bdf3d50>,\n",
              "        <matplotlib.axes._subplots.AxesSubplot object at 0x7fc95bdb7350>,\n",
              "        <matplotlib.axes._subplots.AxesSubplot object at 0x7fc95bd9c790>,\n",
              "        <matplotlib.axes._subplots.AxesSubplot object at 0x7fc95bd52c90>],\n",
              "       [<matplotlib.axes._subplots.AxesSubplot object at 0x7fc95bd1c310>,\n",
              "        <matplotlib.axes._subplots.AxesSubplot object at 0x7fc95bccc750>,\n",
              "        <matplotlib.axes._subplots.AxesSubplot object at 0x7fc95bc82c10>,\n",
              "        <matplotlib.axes._subplots.AxesSubplot object at 0x7fc95bc45150>]],\n",
              "      dtype=object)"
            ]
          },
          "metadata": {},
          "execution_count": 204
        },
        {
          "output_type": "display_data",
          "data": {
            "image/png": "[encoded data removed]",
            "text/plain": [
              "<Figure size 864x576 with 16 Axes>"
            ]
          },
          "metadata": {
            "needs_background": "light"
          }
        }
      ]
    },
    {
      "cell_type": "code",
      "source": [
        "housing.plot(kind=\"scatter\",marker=\"*\",x=\"ZN\",y=\"MEDV\" , alpha=0.8)\n",
        "housing.plot(kind=\"hist\",x=\"RM\",y=\"MEDV\" )"
      ],
      "metadata": {
        "colab": {
          "base_uri": "https://localhost:8080/",
          "height": 544
        },
        "id": "-HYfcAY55UFp",
        "outputId": "36dbe6b1-139d-4715-c29d-9a0f70a0419d"
      },
      "execution_count": null,
      "outputs": [
        {
          "output_type": "execute_result",
          "data": {
            "text/plain": [
              "<matplotlib.axes._subplots.AxesSubplot at 0x7fc95b9c43d0>"
            ]
          },
          "metadata": {},
          "execution_count": 205
        },
        {
          "output_type": "display_data",
          "data": {
            "image/png": "[encoded data removed]",
            "text/plain": [
              "<Figure size 432x288 with 1 Axes>"
            ]
          },
          "metadata": {
            "needs_background": "light"
          }
        },
        {
          "output_type": "display_data",
          "data": {
            "image/png": "[encoded data removed]",
            "text/plain": [
              "<Figure size 432x288 with 1 Axes>"
            ]
          },
          "metadata": {
            "needs_background": "light"
          }
        }
      ]
    },
    {
      "cell_type": "markdown",
      "source": [
        "TRying attribute Combination"
      ],
      "metadata": {
        "id": "xT6ub9GxB_pt"
      }
    },
    {
      "cell_type": "code",
      "source": [
        "housing['TAXRM']=housing['TAX']/housing['RM']"
      ],
      "metadata": {
        "id": "jl-S6JWfA7Vg"
      },
      "execution_count": null,
      "outputs": []
    },
    {
      "cell_type": "code",
      "source": [
        "housing[\"TAXRM\"]\n",
        "housing.plot(kind=\"scatter\",marker=\"*\",x=\"TAXRM\",y=\"MEDV\" , alpha=0.8)"
      ],
      "metadata": {
        "colab": {
          "base_uri": "https://localhost:8080/",
          "height": 296
        },
        "id": "DS1540i8CrrG",
        "outputId": "34e44077-e834-4e55-bfb7-bcefb46a15ac"
      },
      "execution_count": null,
      "outputs": [
        {
          "output_type": "execute_result",
          "data": {
            "text/plain": [
              "<matplotlib.axes._subplots.AxesSubplot at 0x7fc95ba0c890>"
            ]
          },
          "metadata": {},
          "execution_count": 207
        },
        {
          "output_type": "display_data",
          "data": {
            "image/png": "[encoded data removed]",
            "text/plain": [
              "<Figure size 432x288 with 1 Axes>"
            ]
          },
          "metadata": {
            "needs_background": "light"
          }
        }
      ]
    },
    {
      "cell_type": "code",
      "source": [
        ""
      ],
      "metadata": {
        "id": "8VJYRE0rCt-y"
      },
      "execution_count": null,
      "outputs": []
    },
    {
      "cell_type": "markdown",
      "source": [
        "Missing data points \n",
        "1 remove datapoints\n",
        "2 remove coloumn/ atttributes\n",
        "3 set value to some value (0 , mean , median) or which would make most sense "
      ],
      "metadata": {
        "id": "t4z8xS-jGbVM"
      }
    },
    {
      "cell_type": "code",
      "source": [
        "corr_matrix=housing.corr()\n",
        "corr_matrix['MEDV'].sort_values(ascending=False)"
      ],
      "metadata": {
        "colab": {
          "base_uri": "https://localhost:8080/"
        },
        "id": "wJeJGtexCxfn",
        "outputId": "746de0e6-14b2-437f-96bd-f9bcfd552aba"
      },
      "execution_count": null,
      "outputs": [
        {
          "output_type": "execute_result",
          "data": {
            "text/plain": [
              "MEDV       1.000000\n",
              "RM         0.679894\n",
              "B          0.361761\n",
              "ZN         0.339741\n",
              "DIS        0.240451\n",
              "CHAS       0.205066\n",
              "AGE       -0.364596\n",
              "RAD       -0.374693\n",
              "CRIM      -0.393715\n",
              "NOX       -0.422873\n",
              "TAX       -0.456657\n",
              "INDUS     -0.473516\n",
              "PTRATIO   -0.493534\n",
              "TAXRM     -0.525160\n",
              "LSTAT     -0.740494\n",
              "Name: MEDV, dtype: float64"
            ]
          },
          "metadata": {},
          "execution_count": 208
        }
      ]
    },
    {
      "cell_type": "code",
      "source": [
        "# missing data\n",
        "from sklearn.impute import SimpleImputer\n",
        "imputer = SimpleImputer(strategy=\"median\")\n",
        "imputer.fit(housing)\n",
        "housing.describe()\n",
        "X=imputer.transform(housing)\n",
        "# print(X)\n",
        "# print(housing.shape)"
      ],
      "metadata": {
        "id": "ONogwJDAC_47"
      },
      "execution_count": null,
      "outputs": []
    },
    {
      "cell_type": "code",
      "source": [
        ""
      ],
      "metadata": {
        "id": "NPGZUTjnKerW"
      },
      "execution_count": null,
      "outputs": []
    },
    {
      "cell_type": "markdown",
      "source": [
        "**Scikit learn Desin**\n",
        "1 Estimator - it estimates some parameters based in dataset Eg imputer it has fit method and transform method \n",
        "2 Transformers -\n",
        "\n",
        "\n",
        "3 Estimaters -"
      ],
      "metadata": {
        "id": "UNOO2KVQA2LW"
      }
    },
    {
      "cell_type": "markdown",
      "source": [
        "**Featur scalling (bringing closer)**\n",
        "1 min max scalling(normalisation) \n",
        "  (value-min)/(max-min)\n",
        "  sklearn provides a class called min maxscaler for this \n",
        "2 Standaradisation\n",
        "  (value - mean ) / standard deviation\n",
        "  sk learn provides a class called standard scaler for this \n",
        "  "
      ],
      "metadata": {
        "id": "JFDJCpY9GH_A"
      }
    },
    {
      "cell_type": "markdown",
      "source": [
        "PIPELINES"
      ],
      "metadata": {
        "id": "RXnfqX3xFNY_"
      }
    },
    {
      "cell_type": "code",
      "source": [
        "# from sklearn.pipeline import pipeline\n",
        "# from sklearn.preprocessing import StandardScaler\n",
        "# my_pipeline = pipeline([ \n",
        "#         ('imputer',SimpleImputer(strategy=\"median\")),\n",
        "#         #add as many as you want\n",
        "#         ('std_scaler',StandardScaler() ),\n",
        "\n",
        "#   ])\n"
      ],
      "metadata": {
        "id": "kCLZ8s2TFOod"
      },
      "execution_count": null,
      "outputs": []
    },
    {
      "cell_type": "markdown",
      "source": [
        "# Selecting a desired model for Dragon Real Estate"
      ],
      "metadata": {
        "id": "dE8Q_mqXPf8i"
      }
    },
    {
      "cell_type": "code",
      "source": [
        "\n",
        "housing = strat_train_set.drop(\"MEDV\",axis =1 )\n",
        "housing_label=strat_train_set[\"MEDV\"].copy()\n"
      ],
      "metadata": {
        "id": "GVv2z0NKPowr"
      },
      "execution_count": null,
      "outputs": []
    },
    {
      "cell_type": "code",
      "source": [
        "from sklearn.linear_model import LinearRegression\n",
        "from sklearn.tree import DecisionTreeRegressor\n",
        "from sklearn.ensemble import RandomForestRegressor\n",
        "# model = LinearRegression()\n",
        "# model = DecisionTreeRegressor()\n",
        "model = RandomForestRegressor()\n",
        "model.fit(housing , housing_label)"
      ],
      "metadata": {
        "colab": {
          "base_uri": "https://localhost:8080/"
        },
        "id": "Zm7iuL8DQ4aQ",
        "outputId": "32ecfbc7-66e2-4f5a-c29e-40c5349d4b9c"
      },
      "execution_count": null,
      "outputs": [
        {
          "output_type": "execute_result",
          "data": {
            "text/plain": [
              "RandomForestRegressor()"
            ]
          },
          "metadata": {},
          "execution_count": 212
        }
      ]
    },
    {
      "cell_type": "code",
      "source": [
        ""
      ],
      "metadata": {
        "id": "t8BTxSnDUxAl"
      },
      "execution_count": null,
      "outputs": []
    },
    {
      "cell_type": "code",
      "source": [
        "some_data = housing.iloc[:5]"
      ],
      "metadata": {
        "id": "QMQOMHwpUy2l"
      },
      "execution_count": null,
      "outputs": []
    },
    {
      "cell_type": "code",
      "source": [
        "some_labels = housing_label.iloc[:5]"
      ],
      "metadata": {
        "id": "ZPen-CFLVgma"
      },
      "execution_count": null,
      "outputs": []
    },
    {
      "cell_type": "code",
      "source": [
        "model.predict(some_data)"
      ],
      "metadata": {
        "colab": {
          "base_uri": "https://localhost:8080/"
        },
        "id": "W2T_MqA4Vna3",
        "outputId": "de454107-f51a-443c-9ac2-892b89039de8"
      },
      "execution_count": null,
      "outputs": [
        {
          "output_type": "execute_result",
          "data": {
            "text/plain": [
              "array([22.43 , 25.425, 16.81 , 23.528, 23.513])"
            ]
          },
          "metadata": {},
          "execution_count": 215
        }
      ]
    },
    {
      "cell_type": "code",
      "source": [
        "list(some_labels)"
      ],
      "metadata": {
        "colab": {
          "base_uri": "https://localhost:8080/"
        },
        "id": "VwVGVO65V5jt",
        "outputId": "ec37f5e6-4546-4611-ff2e-a3bef6db1d5e"
      },
      "execution_count": null,
      "outputs": [
        {
          "output_type": "execute_result",
          "data": {
            "text/plain": [
              "[21.9, 24.5, 16.7, 23.1, 23.0]"
            ]
          },
          "metadata": {},
          "execution_count": 216
        }
      ]
    },
    {
      "cell_type": "code",
      "source": [
        "# Evaluating the Model\n",
        "from sklearn.metrics import mean_squared_error\n",
        "housing_predictions = model.predict(housing) \n"
      ],
      "metadata": {
        "id": "hPtzEg6KWHYC"
      },
      "execution_count": null,
      "outputs": []
    },
    {
      "cell_type": "code",
      "source": [
        "mse = mean_squared_error(housing_label , housing_predictions)\n",
        "rmse=np.sqrt(mse)"
      ],
      "metadata": {
        "id": "-pVcEqvbWu5y"
      },
      "execution_count": null,
      "outputs": []
    },
    {
      "cell_type": "code",
      "source": [
        "rmse"
      ],
      "metadata": {
        "colab": {
          "base_uri": "https://localhost:8080/"
        },
        "id": "QM6iNbTOXMuh",
        "outputId": "df68cbff-eb2f-4854-82e8-a41ec5768708"
      },
      "execution_count": null,
      "outputs": [
        {
          "output_type": "execute_result",
          "data": {
            "text/plain": [
              "1.1961774068313864"
            ]
          },
          "metadata": {},
          "execution_count": 219
        }
      ]
    },
    {
      "cell_type": "markdown",
      "source": [
        "too big error cant take a joke , use decesion regression tree , now after using DRT its overfitted and hence 0 error [overfitt sample image](:https://upload.wikimedia.org/wikipedia/commons/6/68/Overfitted_Data.png)"
      ],
      "metadata": {
        "id": "JJpwDSlrXqTJ"
      }
    },
    {
      "cell_type": "markdown",
      "source": [
        "Using better evaluation techniques- CROSS VALIDATION"
      ],
      "metadata": {
        "id": "iDUMJ1PFiVAl"
      }
    },
    {
      "cell_type": "code",
      "source": [
        "from sklearn.model_selection import cross_val_score\n",
        "scores = cross_val_score(model , housing , housing_label , scoring = \"neg_mean_squared_error\" , cv = 10)\n",
        "rmse_scores = np.sqrt(-scores)\n",
        "rmse_scores"
      ],
      "metadata": {
        "colab": {
          "base_uri": "https://localhost:8080/"
        },
        "id": "-4geDJYzXt92",
        "outputId": "103cea4f-16f9-423a-c91f-28c4ef41208e"
      },
      "execution_count": null,
      "outputs": [
        {
          "output_type": "execute_result",
          "data": {
            "text/plain": [
              "array([2.85472386, 2.76187458, 4.27667514, 2.39852049, 3.42199576,\n",
              "       2.65199859, 4.63072211, 3.25331094, 3.10912928, 3.17193716])"
            ]
          },
          "metadata": {},
          "execution_count": 220
        }
      ]
    },
    {
      "cell_type": "code",
      "source": [
        "def print_scores(scores):\n",
        "  print(\"Scores: \",scores)\n",
        "  print(\"mean: \", scores.mean())\n",
        "  print(\"Standard deviation : \",scores.std())\n",
        "\n",
        "print_scores(rmse_scores)"
      ],
      "metadata": {
        "colab": {
          "base_uri": "https://localhost:8080/"
        },
        "id": "zi2eTu6tjWjm",
        "outputId": "1ef0be2c-9609-4d37-fe30-b08ad1b5c053"
      },
      "execution_count": null,
      "outputs": [
        {
          "output_type": "stream",
          "name": "stdout",
          "text": [
            "Scores:  [2.85472386 2.76187458 4.27667514 2.39852049 3.42199576 2.65199859\n",
            " 4.63072211 3.25331094 3.10912928 3.17193716]\n",
            "mean:  3.253088791674501\n",
            "Standard deviation :  0.6703002723616316\n"
          ]
        }
      ]
    }
  ]
}